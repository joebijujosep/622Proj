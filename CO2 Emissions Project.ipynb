{
 "cells": [
  {
   "cell_type": "code",
   "execution_count": 2,
   "id": "3811f39f",
   "metadata": {},
   "outputs": [],
   "source": [
    "import pandas as pd\n",
    "import matplotlib.pyplot as plt\n",
    "from sklearn.model_selection import train_test_split\n",
    "from sklearn.preprocessing import OrdinalEncoder\n",
    "import seaborn as sns\n",
    "from sklearn.metrics import classification_report, confusion_matrix, accuracy_score"
   ]
  },
  {
   "cell_type": "code",
   "execution_count": 4,
   "id": "2828518a",
   "metadata": {},
   "outputs": [
    {
     "data": {
      "text/plain": [
       "country                                  0\n",
       "year                                     0\n",
       "iso_code                              8456\n",
       "population                           10590\n",
       "gdp                                  36034\n",
       "cement_co2                           25624\n",
       "cement_co2_per_capita                27884\n",
       "co2                                  19249\n",
       "co2_growth_abs                       21588\n",
       "co2_growth_prct                      25566\n",
       "co2_including_luc                    26380\n",
       "co2_including_luc_growth_abs         26681\n",
       "co2_including_luc_growth_prct        26475\n",
       "co2_including_luc_per_capita         26902\n",
       "co2_including_luc_per_gdp            34897\n",
       "co2_including_luc_per_unit_energy    40876\n",
       "co2_per_capita                       23683\n",
       "co2_per_gdp                          34307\n",
       "co2_per_unit_energy                  40322\n",
       "coal_co2                             25529\n",
       "coal_co2_per_capita                  26177\n",
       "consumption_co2                      45998\n",
       "consumption_co2_per_capita           46371\n",
       "consumption_co2_per_gdp              46700\n",
       "cumulative_cement_co2                25725\n",
       "cumulative_co2                       21242\n",
       "cumulative_co2_including_luc         26380\n",
       "cumulative_coal_co2                  25630\n",
       "cumulative_flaring_co2               25824\n",
       "cumulative_gas_co2                   25756\n",
       "dtype: int64"
      ]
     },
     "execution_count": 4,
     "metadata": {},
     "output_type": "execute_result"
    }
   ],
   "source": [
    "df = pd.read_csv(\"visualizing_global_co2_data.csv\")\n",
    "nulls = (df.isnull().sum())\n",
    "nulls.head(30)"
   ]
  }
 ],
 "metadata": {
  "kernelspec": {
   "display_name": "Python 3",
   "language": "python",
   "name": "python3"
  },
  "language_info": {
   "codemirror_mode": {
    "name": "ipython",
    "version": 3
   },
   "file_extension": ".py",
   "mimetype": "text/x-python",
   "name": "python",
   "nbconvert_exporter": "python",
   "pygments_lexer": "ipython3",
   "version": "3.13.1"
  }
 },
 "nbformat": 4,
 "nbformat_minor": 5
}
